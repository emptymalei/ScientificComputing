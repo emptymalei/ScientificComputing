{
 "cells": [
  {
   "cell_type": "markdown",
   "metadata": {},
   "source": [
    "## Halo Toy Problem"
   ]
  },
  {
   "cell_type": "markdown",
   "metadata": {},
   "source": []
  },
  {
   "cell_type": "code",
   "execution_count": 1,
   "metadata": {
    "collapsed": true
   },
   "outputs": [],
   "source": [
    "import numpy as np\n",
    "import matplotlib.pyplot as plt"
   ]
  },
  {
   "cell_type": "code",
   "execution_count": 21,
   "metadata": {
    "collapsed": true
   },
   "outputs": [],
   "source": [
    "# Number of iterations\n",
    "Ntop = 100000\n",
    "\n",
    "# delta z\n",
    "dz = 0.01\n",
    "\n",
    "# Length of z direction\n",
    "L = 10 \n",
    "\n",
    "# x range\n",
    "\n",
    "zarray = np.arange( 0, L, dz )\n",
    "\n",
    "# Physical Params\n",
    "omegav = 1\n",
    "\n",
    "mu = 50 * omegav # in unit of omegav where omegav = 1\n",
    "thetav = np.arcsin( np.sqrt( 0.3 ) )\n",
    "\n"
   ]
  },
  {
   "cell_type": "code",
   "execution_count": 60,
   "metadata": {},
   "outputs": [],
   "source": [
    "# Initial set up\n",
    "rhoF0 = np.array( [ [ 1, 0 ], [ 0, -1 ] ] )/2\n",
    "rhobB0 = np.array( [ [ 0, 0 ], [ 0, 0 ] ] )/2\n",
    "\n",
    "# Vacuum Hamiltonian in unit of omega\n",
    "hvac = np.array( [ [ -np.cos(thetav), np.sin(thetav) ], [ np.sin(thetav), np.cos(thetav) ] ] )\n",
    "\n",
    "\n",
    "\n",
    "def hamilF( rhoF, rhobB, muValue ):\n",
    "    \"\"\"\n",
    "    Calculate the hamiltonian for forward beams\n",
    "    \"\"\"\n",
    "    \n",
    "    hnunuF = 2 * muValue * ( rhoF - rhobB )\n",
    "    \n",
    "    return hvac + hnunuF\n",
    "    \n",
    "\n",
    "def hamilbB( rhobB, rhoF, muValue ):\n",
    "    \n",
    "    return -hvac + 2 * muValue * ( rhoF - rhobB )\n"
   ]
  },
  {
   "cell_type": "code",
   "execution_count": 61,
   "metadata": {},
   "outputs": [],
   "source": [
    "# Solve Vacuum Problem\n",
    "\n",
    "Nz = int(L/dz)\n",
    "\n",
    "avac = np.zeros( Nz )\n",
    "brvac = np.zeros( Nz )\n",
    "bivac = np.zeros( Nz )\n",
    "\n",
    "avac[0], brvac[0], bivac[0] = rhoF0[0,0], rhoF0[0,1].real, rhoF0[0,1].imag\n",
    "\n",
    "\n",
    "\n",
    "\n",
    "\n",
    "for i in np.arange(0,Nz-1):\n",
    "    \n",
    "    avacrhs = - hvac[0,1].real * bivac + hvac[0,1].imag * brvac\n",
    "    brvacrhs = - hvac[0,1].imag * avac + hvac[0,0].real * bivac\n",
    "    bivacrhs = - hvac[0,0].real * brvac + hvac[0,1].real * avac\n",
    "\n",
    "    \n",
    "    avac[i+1] = avac[i] +  dz * avacrhs[i]\n",
    "    brvac[i+1] = brvac[i] +  dz * brvacrhs[i]\n",
    "    bivac[i+1] = bivac[i] +  dz * bivacrhs[i]"
   ]
  },
  {
   "cell_type": "code",
   "execution_count": 63,
   "metadata": {
    "scrolled": false
   },
   "outputs": [
    {
     "data": {
      "image/png": "[encoded data removed]",
      "text/plain": [
       "<matplotlib.figure.Figure at 0x10e918dd8>"
      ]
     },
     "metadata": {},
     "output_type": "display_data"
    }
   ],
   "source": [
    "plt.plot(2*avac, '-k')\n",
    "plt.show()"
   ]
  },
  {
   "cell_type": "code",
   "execution_count": 64,
   "metadata": {
    "collapsed": true
   },
   "outputs": [],
   "source": [
    "# determine the flavor at z = L\n",
    "\n",
    "rhoL = np.array([ [ avac[-1], brvac[-1] + 1j *  bivac[-1] ], [ brvac[-1] - 1j *  bivac[-1], -avac[-1] ]  ] )"
   ]
  },
  {
   "cell_type": "code",
   "execution_count": 65,
   "metadata": {},
   "outputs": [
    {
     "data": {
      "text/plain": [
       "array([[ 0.21681389+0.j        , -0.43257393-0.15411246j],\n",
       "       [-0.43257393+0.15411246j, -0.21681389+0.j        ]])"
      ]
     },
     "execution_count": 65,
     "metadata": {},
     "output_type": "execute_result"
    }
   ],
   "source": [
    "rhoL"
   ]
  },
  {
   "cell_type": "code",
   "execution_count": null,
   "metadata": {
    "collapsed": true
   },
   "outputs": [],
   "source": []
  }
 ],
 "metadata": {
  "kernelspec": {
   "display_name": "Python 3",
   "language": "python",
   "name": "python3"
  },
  "language_info": {
   "codemirror_mode": {
    "name": "ipython",
    "version": 3
   },
   "file_extension": ".py",
   "mimetype": "text/x-python",
   "name": "python",
   "nbconvert_exporter": "python",
   "pygments_lexer": "ipython3",
   "version": "3.6.1"
  }
 },
 "nbformat": 4,
 "nbformat_minor": 2
}
