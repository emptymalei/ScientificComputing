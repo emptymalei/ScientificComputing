{
 "cells": [
  {
   "cell_type": "markdown",
   "metadata": {},
   "source": [
    "## FEM Using Sfepy"
   ]
  },
  {
   "cell_type": "code",
   "execution_count": 3,
   "metadata": {
    "ExecuteTime": {
     "end_time": "2017-08-11T16:56:58.001003Z",
     "start_time": "2017-08-11T16:56:57.945363Z"
    },
    "collapsed": true
   },
   "outputs": [],
   "source": [
    "from __future__ import absolute_import\n",
    "from sfepy import data_dir\n",
    "\n",
    "def common(fun_v, n_eigs=5, tau=0.0):\n",
    "    filename_mesh = data_dir + '/meshes/quantum/square.mesh'\n",
    "\n",
    "    options = {\n",
    "        'save_eig_vectors' : None,\n",
    "        'n_eigs' : n_eigs,\n",
    "        'eigen_solver' : 'eigen1',\n",
    "    }\n",
    "\n",
    "    region_1000 = {\n",
    "        'name' : 'Omega',\n",
    "        'select' : 'all',\n",
    "    }\n",
    "\n",
    "    region_2 = {\n",
    "        'name' : 'Surface',\n",
    "        'select' : 'vertices of surface',\n",
    "        'kind' : 'facet',\n",
    "    }\n",
    "\n",
    "    functions = {\n",
    "        'fun_v' : (fun_v,),\n",
    "    }\n",
    "\n",
    "    material_1 = {\n",
    "        'name' : 'm',\n",
    "\n",
    "        'values' : {\n",
    "            'val' : 0.5,\n",
    "        },\n",
    "    }\n",
    "\n",
    "    material_2 = {\n",
    "        'name' : 'mat_v',\n",
    "\n",
    "        'function' : 'fun_v',\n",
    "    }\n",
    "\n",
    "    field_0 = {\n",
    "        'name' : 'field_Psi',\n",
    "        'dtype' : 'real',\n",
    "        'shape' : 'scalar',\n",
    "        'region' : 'Omega',\n",
    "        'approx_order' : 2,\n",
    "    }\n",
    "\n",
    "    integral_1 = {\n",
    "        'name' : 'i',\n",
    "        'order' : 4,\n",
    "    }\n",
    "\n",
    "    variable_1 = {\n",
    "        'name' : 'Psi',\n",
    "        'kind' : 'unknown field',\n",
    "        'field' : 'field_Psi',\n",
    "        'order' : 0,\n",
    "    }\n",
    "    variable_2 = {\n",
    "        'name' : 'v',\n",
    "        'kind' : 'test field',\n",
    "        'field' : 'field_Psi',\n",
    "        'dual' : 'Psi',\n",
    "    }\n",
    "    variable_3 = {\n",
    "        'name' : 'V',\n",
    "        'kind' : 'parameter field',\n",
    "        'field' : 'field_Psi',\n",
    "        'like' : 'Psi',\n",
    "    }\n",
    "\n",
    "    ebc_1 = {\n",
    "        'name' : 'ZeroSurface',\n",
    "        'region' : 'Surface',\n",
    "        'dofs' : {'Psi.0' : 0.0},\n",
    "    }\n",
    "\n",
    "    equations = {\n",
    "        'lhs' : \"\"\"  dw_laplace.i.Omega( m.val, v, Psi )\n",
    "                   + dw_volume_dot.i.Omega( mat_v.V, v, Psi )\"\"\",\n",
    "        'rhs' : \"\"\"dw_volume_dot.i.Omega( v, Psi )\"\"\",\n",
    "    }\n",
    "\n",
    "    solver_2 = {\n",
    "        'name' : 'eigen1',\n",
    "        'kind' : 'eig.pysparse',\n",
    "\n",
    "        'tau' : tau,\n",
    "        'eps_a' : 1e-10,\n",
    "        'i_max' : 150,\n",
    "        'method' : 'qmrs',\n",
    "        'verbosity' : 0,\n",
    "        'strategy' : 1,\n",
    "    }\n",
    "\n",
    "    return locals()"
   ]
  },
  {
   "cell_type": "code",
   "execution_count": 4,
   "metadata": {
    "ExecuteTime": {
     "end_time": "2017-08-11T16:56:58.861305Z",
     "start_time": "2017-08-11T16:56:58.850281Z"
    }
   },
   "outputs": [],
   "source": [
    "from __future__ import absolute_import\n",
    "from sfepy.linalg import norm_l2_along_axis\n",
    "\n",
    "# from examples.quantum.quantum_common import common\n",
    "\n",
    "def fun_v(ts, coor, mode=None, **kwargs):\n",
    "    if not mode == 'qp': return\n",
    "\n",
    "    out = {}\n",
    "    C = 0.5\n",
    "    val = C * norm_l2_along_axis(coor, axis=1, squared=True)\n",
    "\n",
    "    val.shape = (val.shape[0], 1, 1)\n",
    "    out['V'] = val\n",
    "    return out\n",
    "\n",
    "def define(n_eigs=20, tau=0.0):\n",
    "    l = common(fun_v, n_eigs=n_eigs, tau=tau)\n",
    "    return l"
   ]
  },
  {
   "cell_type": "code",
   "execution_count": null,
   "metadata": {
    "collapsed": true
   },
   "outputs": [],
   "source": []
  }
 ],
 "metadata": {
  "kernelspec": {
   "display_name": "Python 2",
   "language": "python",
   "name": "python2"
  },
  "language_info": {
   "codemirror_mode": {
    "name": "ipython",
    "version": 2
   },
   "file_extension": ".py",
   "mimetype": "text/x-python",
   "name": "python",
   "nbconvert_exporter": "python",
   "pygments_lexer": "ipython2",
   "version": "2.7.13"
  },
  "toc": {
   "colors": {
    "hover_highlight": "#DAA520",
    "navigate_num": "#000000",
    "navigate_text": "#333333",
    "running_highlight": "#FF0000",
    "selected_highlight": "#FFD700",
    "sidebar_border": "#EEEEEE",
    "wrapper_background": "#FFFFFF"
   },
   "moveMenuLeft": true,
   "nav_menu": {
    "height": "30px",
    "width": "252px"
   },
   "navigate_menu": true,
   "number_sections": true,
   "sideBar": true,
   "threshold": 4,
   "toc_cell": false,
   "toc_section_display": "block",
   "toc_window_display": false,
   "widenNotebook": false
  }
 },
 "nbformat": 4,
 "nbformat_minor": 2
}
