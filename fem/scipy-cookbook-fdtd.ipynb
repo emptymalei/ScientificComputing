{
 "cells": [
  {
   "cell_type": "markdown",
   "metadata": {},
   "source": [
    "## SciPy Cookbook Example"
   ]
  },
  {
   "cell_type": "code",
   "execution_count": 6,
   "metadata": {
    "ExecuteTime": {
     "end_time": "2017-08-11T19:10:20.307670Z",
     "start_time": "2017-08-11T19:10:20.303726Z"
    }
   },
   "outputs": [],
   "source": [
    "import matplotlib.pyplot as plt"
   ]
  },
  {
   "cell_type": "code",
   "execution_count": 2,
   "metadata": {
    "ExecuteTime": {
     "end_time": "2017-08-11T19:09:20.849073Z",
     "start_time": "2017-08-11T19:09:20.756019Z"
    }
   },
   "outputs": [],
   "source": [
    "#=============================================================================\n",
    "#\n",
    "#               Quantum Mechanical Simulation using Finite-Difference\n",
    "#               Time-Domain (FDTD) Method\n",
    "#\n",
    "#       This script simulates a probability wave in the presence of multiple\n",
    "#       potentials.  The simulation is c arried out by using the FDTD algorithm\n",
    "#       applied to the Schrodinger equation.  The program is intended to act as\n",
    "#       a demonstration of the FDTD algorithm and can be used as an educational\n",
    "#       aid for quantum mechanics and numerical methods.  The simulation\n",
    "#       parameters are defined in the code constants and can be freely\n",
    "#       manipulated to see different behaviors.\n",
    "#\n",
    "#       NOTES\n",
    "#\n",
    "#       The probability density plots are amplified by a factor for visual\n",
    "#       purposes.  The psi_p quanity contains the actual probability density\n",
    "#       without any rescaling.\n",
    "#\n",
    "#       BEWARE: The time step, dt, has strict requirements or else the\n",
    "#       simulation becomes unstable.\n",
    "#\n",
    "#       The code has three built-in potential functions for demonstration.\n",
    "#\n",
    "#       1) Constant potential: Demonstrates a free particle with dispersion.\n",
    "#\n",
    "#       2) Step potential: Demonstrates transmission and reflection.\n",
    "#\n",
    "#       3) Potential barrier: Demonstrates tunneling.\n",
    "#\n",
    "#       By tweaking the height of the potential (V0 below) as well as the\n",
    "#       barrier thickness (THCK below), you can see different behaviors: full\n",
    "#       reflection with no noticeable transmission, transmission and\n",
    "#       reflection, or mostly transmission with tunneling.\n",
    "#\n",
    "#               This script requires pylab and numpy to be installed with\n",
    "#               Python or else it will not run.\n",
    "#\n",
    "#============================================================================\n",
    "# Author:  James Nagel <nagel@mers.byu.edu>\n",
    "#          5/25/07\n",
    "#\n",
    "# Updates by Fernando Perez <Fernando.Perez@colorado.edu>, 7/28/07\n",
    "#============================================================================\n",
    "#  Numerical and plotting libraries\n",
    "import numpy as np\n",
    "import pylab\n",
    "# Set pylab to interactive mode so plots update when run outside ipython\n",
    "pylab.ion()\n",
    "#=============================================================================\n",
    "# Utility functions\n",
    "#  Defines a quick Gaussian pulse function to act as an envelope to the wave\n",
    "#  function.\n",
    "def Gaussian(x,t,sigma):\n",
    "    \"\"\"  A Gaussian curve.\n",
    "        x = Variable\n",
    "        t = time shift\n",
    "        sigma = standard deviation      \"\"\"\n",
    "    return np.exp(-(x-t)**2/(2*sigma**2))\n",
    "def free(npts):\n",
    "    \"Free particle.\"\n",
    "    return np.zeros(npts)\n",
    "def step(npts,v0):\n",
    "    \"Potential step\"\n",
    "    v = free(npts)\n",
    "    v[npts/2:] = v0\n",
    "    return v\n",
    "def barrier(npts,v0,thickness):\n",
    "    \"Barrier potential\"\n",
    "    v = free(npts)\n",
    "    v[npts/2:npts/2+thickness] = v0\n",
    "    return v\n",
    "def fillax(x,y,*args,**kw):\n",
    "    \"\"\"Fill the space between an array of y values and the x axis.\n",
    "    All args/kwargs are passed to the pylab.fill function.\n",
    "    Returns the value of the pylab.fill() call.\n",
    "    \"\"\"\n",
    "    xx = np.concatenate((x,np.array([x[-1],x[0]],x.dtype)))\n",
    "    yy = np.concatenate((y,np.zeros(2,y.dtype)))\n",
    "    return pylab.fill(xx, yy, *args,**kw)\n",
    "\n"
   ]
  },
  {
   "cell_type": "code",
   "execution_count": 8,
   "metadata": {
    "ExecuteTime": {
     "end_time": "2017-08-11T19:11:26.932626Z",
     "start_time": "2017-08-11T19:11:26.220348Z"
    }
   },
   "outputs": [
    {
     "data": {
      "text/plain": [
       "[<matplotlib.lines.Line2D at 0x10ea8ad10>]"
      ]
     },
     "execution_count": 8,
     "metadata": {},
     "output_type": "execute_result"
    },
    {
     "data": {
      "image/png": "[encoded data removed]",
      "text/plain": [
       "<matplotlib.figure.Figure at 0x10e675150>"
      ]
     },
     "metadata": {},
     "output_type": "display_data"
    }
   ],
   "source": [
    "plt.plot( Gaussian( np.linspace( -1,1,100 ) ,0,1) )"
   ]
  },
  {
   "cell_type": "code",
   "execution_count": 3,
   "metadata": {
    "ExecuteTime": {
     "end_time": "2017-08-11T19:10:00.565526Z",
     "start_time": "2017-08-11T19:09:22.093786Z"
    }
   },
   "outputs": [
    {
     "name": "stdout",
     "output_type": "stream",
     "text": [
      "One-dimensional Schrodinger equation - time evolution\n",
      "Wavepacket energy:    0.0124932555014\n",
      "Potential type:       step\n",
      "Potential height V0:  0.01\n",
      "Barrier thickness:    15\n"
     ]
    },
    {
     "data": {
      "image/png": "[encoded data removed]",
      "text/plain": [
       "<matplotlib.figure.Figure at 0x10e803a10>"
      ]
     },
     "metadata": {},
     "output_type": "display_data"
    }
   ],
   "source": [
    "#=============================================================================\n",
    "#\n",
    "#  Simulation Constants.  Be sure to include decimal points on appropriate\n",
    "#  variables so they become floats instead of integers.\n",
    "#\n",
    "N    = 1200     #  Number of spatial points.\n",
    "T    = 5*N      #  Number of time steps.  5*N is a nice value for terminating\n",
    "                #  before anything reaches the boundaries.\n",
    "Tp   = 50       #  Number of time steps to increment before updating the plot.\n",
    "dx   = 1.0e0    #  Spatial resolution\n",
    "m    = 1.0e0    #  Particle mass\n",
    "hbar = 1.0e0    #  Plank's constant\n",
    "X    = dx*np.linspace(0,N,N)        #  Spatial axis.\n",
    "# Potential parameters.  By playing with the type of potential and the height\n",
    "# and thickness (for barriers), you'll see the various transmission/reflection\n",
    "# regimes of quantum mechanical tunneling.\n",
    "V0   = 1.0e-2   #  Potential amplitude (used for steps and barriers)\n",
    "THCK = 15       # \"Thickness\" of the potential barrier (if appropriate\n",
    "                # V-function is chosen)\n",
    "# Uncomment the potential type you want to use here:\n",
    "# Zero potential, packet propagates freely.\n",
    "#POTENTIAL = 'free'\n",
    "# Potential step.  The height (V0) of the potential chosen above will determine\n",
    "# the amount of reflection/transmission you'll observe\n",
    "POTENTIAL = 'step'\n",
    "# Potential barrier.  Note that BOTH the potential height (V0) and thickness\n",
    "# of the barrier (THCK) affect the amount of tunneling vs reflection you'll\n",
    "# observe.\n",
    "#POTENTIAL = 'barrier'\n",
    "#  Initial wave function constants\n",
    "sigma = 40.0 # Standard deviation on the Gaussian envelope (remember Heisenberg\n",
    "             #  uncertainty).\n",
    "x0 = round(N/2) - 5*sigma # Time shift\n",
    "k0 = np.pi/20 # Wavenumber (note that energy is a function of k)\n",
    "# Energy for a localized gaussian wavepacket interacting with a localized\n",
    "# potential (so the interaction term can be neglected by computing the energy\n",
    "# integral over a region where V=0)\n",
    "E = (hbar**2/2.0/m)*(k0**2+0.5/sigma**2)\n",
    "#=============================================================================\n",
    "# Code begins\n",
    "#\n",
    "# You shouldn't need to change anything below unless you want to actually play\n",
    "# with the numerical algorithm or modify the plotting.\n",
    "#\n",
    "#  Fill in the appropriate potential function (is there a Python equivalent to\n",
    "#  the SWITCH statement?).\n",
    "if POTENTIAL=='free':\n",
    "    V = free(N)\n",
    "elif POTENTIAL=='step':\n",
    "    V = step(N,V0)\n",
    "elif POTENTIAL=='barrier':\n",
    "    V = barrier(N,V0,THCK)\n",
    "else:\n",
    "    raise ValueError(\"Unrecognized potential type: %s\" % POTENTIAL)\n",
    "#  More simulation parameters.  The maximum stable time step is a function of\n",
    "#  the potential, V.\n",
    "Vmax = V.max()            #  Maximum potential of the domain.\n",
    "dt   = hbar/(2*hbar**2/(m*dx**2)+Vmax)         #  Critical time step.\n",
    "c1   = hbar*dt/(m*dx**2)                       #  Constant coefficient 1.\n",
    "c2   = 2*dt/hbar                               #  Constant coefficient 2.\n",
    "c2V  = c2*V  # pre-compute outside of update loop\n",
    "# Print summary info\n",
    "print 'One-dimensional Schrodinger equation - time evolution'\n",
    "print 'Wavepacket energy:   ',E\n",
    "print 'Potential type:      ',POTENTIAL\n",
    "print 'Potential height V0: ',V0\n",
    "print 'Barrier thickness:   ',THCK\n",
    "#  Wave functions.  Three states represent past, present, and future.\n",
    "psi_r = np.zeros((3,N)) #  Real\n",
    "psi_i = np.zeros((3,N)) #  Imaginary\n",
    "psi_p = np.zeros(N,)   # Observable probability (magnitude-squared\n",
    "                          #  of the complex wave function).\n",
    "#  Temporal indexing constants, used for accessing rows of the wavefunctions.\n",
    "PA = 0                 #  Past\n",
    "PR = 1                 #  Present\n",
    "FU = 2                 #  Future\n",
    "#  Initialize wave function.  A present-only state will \"split\" with half the\n",
    "#  wave function propagating to the left and the other half to the right.\n",
    "#  Including a \"past\" state will cause it to propagate one way.\n",
    "xn = range(1,N/2)\n",
    "x = X[xn]/dx    #  Normalized position coordinate\n",
    "gg = Gaussian(x,x0,sigma)\n",
    "cx = np.cos(k0*x)\n",
    "sx = np.sin(k0*x)\n",
    "psi_r[PR,xn] = cx*gg\n",
    "psi_i[PR,xn] = sx*gg\n",
    "psi_r[PA,xn] = cx*gg\n",
    "psi_i[PA,xn] = sx*gg\n",
    "# Initial normalization of wavefunctions\n",
    "#   Compute the observable probability.\n",
    "psi_p = psi_r[PR]**2 + psi_i[PR]**2\n",
    "#  Normalize the wave functions so that the total probability in the simulation\n",
    "#  is equal to 1.\n",
    "P   = dx * psi_p.sum()                      #  Total probability.\n",
    "nrm = np.sqrt(P)\n",
    "psi_r /= nrm\n",
    "psi_i /= nrm\n",
    "psi_p /= P\n",
    "#  Initialize the figure and axes.\n",
    "pylab.figure()\n",
    "xmin = X.min()\n",
    "xmax = X.max()\n",
    "ymax = 1.5*(psi_r[PR]).max()\n",
    "pylab.axis([xmin,xmax,-ymax,ymax])\n",
    "#  Initialize the plots with their own line objects.  The figures plot MUCH\n",
    "#  faster if you simply update the lines as opposed to redrawing the entire\n",
    "#  figure.  For reference, include the potential function as well.\n",
    "lineR, = pylab.plot(X,psi_r[PR],'b',alpha=0.7,label='Real')\n",
    "lineI, = pylab.plot(X,psi_i[PR],'r',alpha=0.7,label='Imag')\n",
    "lineP, = pylab.plot(X,6*psi_p,'k',label='Prob')\n",
    "pylab.title('Potential height: %.2e' % V0)\n",
    "# For non-zero potentials, plot them and shade the classically forbidden region\n",
    "# in light red, as well as drawing a green line at the wavepacket's total\n",
    "# energy, in the same units the potential is being plotted.\n",
    "if Vmax !=0 :\n",
    "    # Scaling factor for energies, so they fit in the same plot as the\n",
    "    # wavefunctions\n",
    "    Efac = ymax/2.0/Vmax\n",
    "    V_plot = V*Efac\n",
    "    pylab.plot(X,V_plot,':k',zorder=0)   #  Potential line.\n",
    "    fillax(X,V_plot, facecolor='y', alpha=0.2,zorder=0)\n",
    "    # Plot the wavefunction energy, in the same scale as the potential\n",
    "    pylab.axhline(E*Efac,color='g',label='Energy',zorder=1)\n",
    "pylab.legend(loc='lower right')\n",
    "pylab.draw()\n",
    "# I think there's a problem with pylab, because it resets the xlim after\n",
    "# plotting the E line.  Fix it back manually.\n",
    "pylab.xlim(xmin,xmax)\n",
    "#  Direct index assignment is MUCH faster than using a spatial FOR loop, so\n",
    "#  these constants are used in the update equations.  Remember that Python uses\n",
    "#  zero-based indexing.\n",
    "IDX1 = range(1,N-1)                            #  psi [ k ]\n",
    "IDX2 = range(2,N)                              #  psi [ k + 1 ]\n",
    "IDX3 = range(0,N-2)                            #  psi [ k - 1 ]\n",
    "for t in range(T+1):\n",
    "    # Precompute a couple of indexing constants, this speeds up the computation\n",
    "    psi_rPR = psi_r[PR]\n",
    "    psi_iPR = psi_i[PR]\n",
    "    #  Apply the update equations.\n",
    "    psi_i[FU,IDX1] = psi_i[PA,IDX1] + \\\n",
    "                      c1*(psi_rPR[IDX2] - 2*psi_rPR[IDX1] +\n",
    "                          psi_rPR[IDX3])\n",
    "    psi_i[FU] -= c2V*psi_r[PR]\n",
    "\n",
    "    psi_r[FU,IDX1] = psi_r[PA,IDX1] - \\\n",
    "                      c1*(psi_iPR[IDX2] - 2*psi_iPR[IDX1] +\n",
    "                          psi_iPR[IDX3])\n",
    "    psi_r[FU] += c2V*psi_i[PR]\n",
    "    #  Increment the time steps.  PR -> PA and FU -> PR\n",
    "    psi_r[PA] = psi_rPR\n",
    "    psi_r[PR] = psi_r[FU]\n",
    "    psi_i[PA] = psi_iPR\n",
    "    psi_i[PR] = psi_i[FU]\n",
    "    #  Only plot after a few iterations to make the simulation run faster.\n",
    "    if t % Tp == 0:\n",
    "        #  Compute observable probability for the plot.\n",
    "        psi_p = psi_r[PR]**2 + psi_i[PR]**2\n",
    "        #  Update the plots.\n",
    "        lineR.set_ydata(psi_r[PR])\n",
    "        lineI.set_ydata(psi_i[PR])\n",
    "        # Note: we plot the probability density amplified by a factor so it's a\n",
    "        # bit easier to see.\n",
    "        lineP.set_ydata(6*psi_p)\n",
    "\n",
    "        pylab.draw()\n",
    "# So the windows don't auto-close at the end if run outside ipython\n",
    "pylab.ioff()\n",
    "pylab.show()"
   ]
  },
  {
   "cell_type": "code",
   "execution_count": null,
   "metadata": {
    "collapsed": true
   },
   "outputs": [],
   "source": []
  }
 ],
 "metadata": {
  "kernelspec": {
   "display_name": "Python 2",
   "language": "python",
   "name": "python2"
  },
  "language_info": {
   "codemirror_mode": {
    "name": "ipython",
    "version": 2
   },
   "file_extension": ".py",
   "mimetype": "text/x-python",
   "name": "python",
   "nbconvert_exporter": "python",
   "pygments_lexer": "ipython2",
   "version": "2.7.13"
  },
  "toc": {
   "colors": {
    "hover_highlight": "#DAA520",
    "navigate_num": "#000000",
    "navigate_text": "#333333",
    "running_highlight": "#FF0000",
    "selected_highlight": "#FFD700",
    "sidebar_border": "#EEEEEE",
    "wrapper_background": "#FFFFFF"
   },
   "moveMenuLeft": true,
   "nav_menu": {
    "height": "30px",
    "width": "252px"
   },
   "navigate_menu": true,
   "number_sections": true,
   "sideBar": true,
   "threshold": 4,
   "toc_cell": false,
   "toc_section_display": "block",
   "toc_window_display": false,
   "widenNotebook": false
  }
 },
 "nbformat": 4,
 "nbformat_minor": 2
}
